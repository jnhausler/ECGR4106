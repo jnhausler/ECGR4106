{
  "cells": [
    {
      "cell_type": "code",
      "execution_count": 2,
      "metadata": {
        "id": "r9QNGbC1aTBR"
      },
      "outputs": [],
      "source": [
        "import numpy as np \n",
        "import pandas as pd \n",
        " \n",
        "# Data Visualisation \n",
        "import matplotlib.pyplot as plt  \n",
        "import seaborn as sns \n",
        "import tensorflow as tf\n",
        "from tensorflow.python.client import device_lib\n",
        "\n",
        "import torch\n",
        "import torch.optim as optim\n",
        "import glob\n",
        "from torchvision import transforms\n",
        "import torch.nn as nn\n",
        "import datetime\n",
        "import torch.nn.functional as F"
      ]
    },
    {
      "cell_type": "markdown",
      "source": [
        "Model for Problem 1"
      ],
      "metadata": {
        "id": "98phhopMgKuA"
      }
    },
    {
      "cell_type": "code",
      "source": [
        "class myNet(nn.Module):\n",
        "  def __init__(self):\n",
        "    super().__init__()\n",
        "    self.conv1 = nn.Conv2d(3, 16, kernel_size = 3, padding = 1)\n",
        "    self.conv2 = nn.Conv2d(16, 8, kernel_size = 3, padding = 1)\n",
        "    self.fc1 = nn.Linear(8 * 8 * 8, 32)\n",
        "    self.fc2 = nn.Linear(32, 10)\n",
        "\n",
        "  def forward(self, x):\n",
        "      out = F.max_pool2d(torch.tanh(self.conv1(x)), 2)\n",
        "      out = F.max_pool2d(torch.tanh(self.conv2(out)), 2)\n",
        "      out = out.view(-1, 8 * 8 * 8)\n",
        "      out = torch.tanh(self.fc1(out))\n",
        "      out = self.fc2(out)\n",
        "      return out"
      ],
      "metadata": {
        "id": "MYkISq4KamMQ"
      },
      "execution_count": 3,
      "outputs": []
    },
    {
      "cell_type": "code",
      "execution_count": 9,
      "metadata": {
        "colab": {
          "base_uri": "https://localhost:8080/",
          "height": 124,
          "referenced_widgets": [
            "1660723dd1d1410ca478ae499bb01130",
            "588c5049f808482588a8292c8a937607",
            "15b97b8be0da4057be8e4cbf4fabc5f3",
            "a44b1f501236432085c03b7e72c6b385",
            "6a66634a00c743d0908df5f94920621a",
            "5c30169aef1544c993f41a9f855acaf1",
            "a68f21cc285c4fd78e89d40956d06b62",
            "c622eb3fb7dd4aabbe5df1226b2cce5d",
            "f81624b11d3b4ee39ed1da6d328a609a",
            "85f384d1173e4fa4a74742e4dd069eaf",
            "85dcc4f273ff4fe2996bfb4a410220ec"
          ]
        },
        "id": "UAq8R-LSnAdD",
        "outputId": "1e2eb900-93dd-4cde-caf7-7ef735a5b9fb"
      },
      "outputs": [
        {
          "output_type": "stream",
          "name": "stdout",
          "text": [
            "Downloading https://www.cs.toronto.edu/~kriz/cifar-10-python.tar.gz to Documents/School/ECGR 4106/dlwpt-code-master/p1ch7/cifar-10-python.tar.gz\n"
          ]
        },
        {
          "output_type": "display_data",
          "data": {
            "text/plain": [
              "  0%|          | 0/170498071 [00:00<?, ?it/s]"
            ],
            "application/vnd.jupyter.widget-view+json": {
              "version_major": 2,
              "version_minor": 0,
              "model_id": "1660723dd1d1410ca478ae499bb01130"
            }
          },
          "metadata": {}
        },
        {
          "output_type": "stream",
          "name": "stdout",
          "text": [
            "Extracting Documents/School/ECGR 4106/dlwpt-code-master/p1ch7/cifar-10-python.tar.gz to Documents/School/ECGR 4106/dlwpt-code-master/p1ch7\n",
            "Files already downloaded and verified\n"
          ]
        }
      ],
      "source": [
        "from torchvision import datasets\n",
        "data_path = 'Documents/School/ECGR 4106/dlwpt-code-master/p1ch7'\n",
        "cifar10 = datasets.CIFAR10(data_path, train=True, download=True, transform = transforms.ToTensor())\n",
        "cifar10_val = datasets.CIFAR10(data_path, train=False, download=True, transform = transforms.ToTensor())"
      ]
    },
    {
      "cell_type": "code",
      "execution_count": 10,
      "metadata": {
        "colab": {
          "base_uri": "https://localhost:8080/"
        },
        "id": "J_Z_ng_2hWL9",
        "outputId": "de24f8d1-982c-4078-96de-f8c906812221"
      },
      "outputs": [
        {
          "output_type": "stream",
          "name": "stdout",
          "text": [
            "Training on device cuda.\n"
          ]
        }
      ],
      "source": [
        "device = (torch.device('cuda') if torch.cuda.is_available() else torch.device('cpu'))\n",
        "print(f\"Training on device {device}.\")"
      ]
    },
    {
      "cell_type": "code",
      "execution_count": 11,
      "metadata": {
        "id": "pY2mr7yIg0ys"
      },
      "outputs": [],
      "source": [
        "def training_loop(n_epochs, optimizer, model, loss_fn, train_loader):\n",
        "  for epoch in range(1, n_epochs + 1):\n",
        "    loss_train = 0.0\n",
        "\n",
        "    for imgs, labels in train_loader:\n",
        "      imgs = imgs.to(device = device)\n",
        "      labels = labels.to(device = device)\n",
        "      outputs = model(imgs)\n",
        "      loss = loss_fn(outputs, labels)\n",
        "\n",
        "      optimizer.zero_grad()\n",
        "      loss.backward()\n",
        "      optimizer.step()\n",
        "\n",
        "      loss_train += loss.item()\n",
        "\n",
        "    if epoch == 1 or epoch % 10 == 0:\n",
        "      print('{} Epoch {}, Training loss {}'.format(\n",
        "          datetime.datetime.now(), epoch, loss_train / len(train_loader)))"
      ]
    },
    {
      "cell_type": "code",
      "source": [
        "model = myNet().to(device = device)\n",
        "optimizer = optim.SGD(model.parameters(), lr = 1e-2)\n",
        "loss_fn = nn.CrossEntropyLoss()\n",
        "train_loader = torch.utils.data.DataLoader(cifar10, batch_size = 64, shuffle=True)"
      ],
      "metadata": {
        "id": "ThFFSJwrMByJ"
      },
      "execution_count": 12,
      "outputs": []
    },
    {
      "cell_type": "code",
      "execution_count": 7,
      "metadata": {
        "colab": {
          "base_uri": "https://localhost:8080/"
        },
        "id": "3gVOBrrPimIz",
        "outputId": "7953ae40-3267-468f-9f8d-bc422ecc2787"
      },
      "outputs": [
        {
          "output_type": "stream",
          "name": "stdout",
          "text": [
            "2022-03-31 04:03:17.101799 Epoch 1, Training loss 2.267829884958389\n",
            "2022-03-31 04:04:14.484891 Epoch 10, Training loss 1.4064956697661553\n",
            "2022-03-31 04:05:18.085778 Epoch 20, Training loss 1.1904813609922025\n",
            "2022-03-31 04:06:21.677290 Epoch 30, Training loss 1.064244159042378\n",
            "2022-03-31 04:07:24.994342 Epoch 40, Training loss 0.9842125989896867\n",
            "2022-03-31 04:08:28.285315 Epoch 50, Training loss 0.9256816506385803\n",
            "2022-03-31 04:09:31.635879 Epoch 60, Training loss 0.8820523621557314\n",
            "2022-03-31 04:10:34.911315 Epoch 70, Training loss 0.8478115840107584\n",
            "2022-03-31 04:11:38.399911 Epoch 80, Training loss 0.8215839589572014\n",
            "2022-03-31 04:12:41.679888 Epoch 90, Training loss 0.7996352706342706\n",
            "2022-03-31 04:13:44.946630 Epoch 100, Training loss 0.7801369659964691\n",
            "2022-03-31 04:14:48.331511 Epoch 110, Training loss 0.7617996210027533\n",
            "2022-03-31 04:15:51.591693 Epoch 120, Training loss 0.7459920627610458\n",
            "2022-03-31 04:16:54.803146 Epoch 130, Training loss 0.7304977042138424\n",
            "2022-03-31 04:17:58.324111 Epoch 140, Training loss 0.7178703875416685\n",
            "2022-03-31 04:19:01.318308 Epoch 150, Training loss 0.7059906645656546\n",
            "2022-03-31 04:20:04.443644 Epoch 160, Training loss 0.6934841080852177\n",
            "2022-03-31 04:21:07.727349 Epoch 170, Training loss 0.6825801922232294\n",
            "2022-03-31 04:22:10.948053 Epoch 180, Training loss 0.6714670094077849\n",
            "2022-03-31 04:23:14.010460 Epoch 190, Training loss 0.6653707325839631\n",
            "2022-03-31 04:24:17.214334 Epoch 200, Training loss 0.6548315021769165\n",
            "2022-03-31 04:25:20.374394 Epoch 210, Training loss 0.646265203804921\n",
            "2022-03-31 04:26:23.493899 Epoch 220, Training loss 0.6390698861587992\n",
            "2022-03-31 04:27:26.719583 Epoch 230, Training loss 0.6330312879570305\n",
            "2022-03-31 04:28:30.031462 Epoch 240, Training loss 0.6269845250241287\n",
            "2022-03-31 04:29:33.049596 Epoch 250, Training loss 0.6203348417873578\n",
            "2022-03-31 04:30:36.384986 Epoch 260, Training loss 0.6138431365837527\n",
            "2022-03-31 04:31:39.762946 Epoch 270, Training loss 0.6063849520119254\n",
            "2022-03-31 04:32:43.076550 Epoch 280, Training loss 0.6025554522528977\n",
            "2022-03-31 04:33:46.312269 Epoch 290, Training loss 0.5961232577900752\n",
            "2022-03-31 04:34:49.693370 Epoch 300, Training loss 0.5921098483950281\n"
          ]
        }
      ],
      "source": [
        "training_loop(\n",
        "    n_epochs = 300,\n",
        "    optimizer = optimizer,\n",
        "    model = model,\n",
        "    loss_fn = loss_fn,\n",
        "    train_loader = train_loader\n",
        ")"
      ]
    },
    {
      "cell_type": "code",
      "execution_count": 13,
      "metadata": {
        "id": "AP0xo1A0rcFk"
      },
      "outputs": [],
      "source": [
        "def validate(model, train_loader, val_loader):\n",
        "  for name, loader in [(\"train\", train_loader), (\"val\", val_loader)]:\n",
        "    correct = 0\n",
        "    total = 0 \n",
        "    \n",
        "    with torch.no_grad():\n",
        "      for imgs, labels in loader:\n",
        "        imgs = imgs.to(device = device)\n",
        "        labels = labels.to(device = device)\n",
        "        outputs = model(imgs)\n",
        "        _, predicted = torch.max(outputs, dim = 1)\n",
        "        total += labels.shape[0]\n",
        "        correct += int((predicted == labels).sum())\n",
        "\n",
        "  print(\"Accuracy: {}: {:.2f}\".format(name, correct / total))"
      ]
    },
    {
      "cell_type": "code",
      "source": [
        "val_loader = torch.utils.data.DataLoader(cifar10_val, batch_size = 64, shuffle = False)"
      ],
      "metadata": {
        "id": "d-AIDNJguVXQ"
      },
      "execution_count": 14,
      "outputs": []
    },
    {
      "cell_type": "code",
      "execution_count": 9,
      "metadata": {
        "id": "beo76Hw2EhXP",
        "colab": {
          "base_uri": "https://localhost:8080/"
        },
        "outputId": "825d87f2-2119-4e52-e999-517f6a546107"
      },
      "outputs": [
        {
          "output_type": "stream",
          "name": "stdout",
          "text": [
            "Accuracy: val: 0.59\n"
          ]
        }
      ],
      "source": [
        "validate(model, train_loader, val_loader)"
      ]
    },
    {
      "cell_type": "code",
      "execution_count": 9,
      "metadata": {
        "id": "e7JzXF-kIJEk"
      },
      "outputs": [],
      "source": [
        "class myNet2(nn.Module):\n",
        "  def __init__(self):\n",
        "    super().__init__()\n",
        "    self.conv1 = nn.Conv2d(3, 16, kernel_size = 3, padding = 1)\n",
        "    self.conv2 = nn.Conv2d(16, 8, kernel_size = 3, padding = 1)\n",
        "    self.conv3 = nn.Conv2d(8, 4, kernel_size = 3, padding = 1)\n",
        "    self.fc1 = nn.Linear(4 * 4 * 4, 32)\n",
        "    self.fc2 = nn.Linear(32, 16)\n",
        "    self.fc3 = nn.Linear(16, 10)\n",
        "\n",
        "  def forward(self, x):\n",
        "      out = F.max_pool2d(torch.tanh(self.conv1(x)), 2)\n",
        "      out = F.max_pool2d(torch.tanh(self.conv2(out)), 2)\n",
        "      out = F.max_pool2d(torch.tanh(self.conv3(out)), 2)\n",
        "      out = out.view(-1, 4 * 4 * 4)\n",
        "      out = torch.tanh(self.fc1(out))\n",
        "      out = torch.tanh(self.fc2(out))\n",
        "      out = self.fc3(out)\n",
        "      return out"
      ]
    },
    {
      "cell_type": "code",
      "source": [
        "model2 = myNet2().to(device = device)\n",
        "optimizer2 = optim.SGD(model2.parameters(), lr = 1e-2)"
      ],
      "metadata": {
        "id": "QK5kAWPLZjpM"
      },
      "execution_count": 10,
      "outputs": []
    },
    {
      "cell_type": "code",
      "execution_count": 12,
      "metadata": {
        "id": "AvYmNVSqMDoN",
        "colab": {
          "base_uri": "https://localhost:8080/"
        },
        "outputId": "3a46b65f-07d6-4702-ed0c-168719bbc019"
      },
      "outputs": [
        {
          "output_type": "stream",
          "name": "stdout",
          "text": [
            "2022-03-31 04:35:03.113621 Epoch 1, Training loss 2.3059863919187387\n",
            "2022-03-31 04:36:03.661367 Epoch 10, Training loss 1.7103222492710708\n",
            "2022-03-31 04:37:10.581736 Epoch 20, Training loss 1.4185363420135224\n",
            "2022-03-31 04:38:17.426355 Epoch 30, Training loss 1.2769807779118227\n",
            "2022-03-31 04:39:24.402457 Epoch 40, Training loss 1.200122705124833\n",
            "2022-03-31 04:40:31.657922 Epoch 50, Training loss 1.149207271502146\n",
            "2022-03-31 04:41:39.023311 Epoch 60, Training loss 1.1085100907194034\n",
            "2022-03-31 04:42:46.424742 Epoch 70, Training loss 1.0789862668422787\n",
            "2022-03-31 04:43:53.573456 Epoch 80, Training loss 1.051820840372149\n",
            "2022-03-31 04:45:01.065694 Epoch 90, Training loss 1.032105919192819\n",
            "2022-03-31 04:46:08.476028 Epoch 100, Training loss 1.0153484369635277\n",
            "2022-03-31 04:47:15.350908 Epoch 110, Training loss 0.9969144527564573\n",
            "2022-03-31 04:48:22.170661 Epoch 120, Training loss 0.9872342742922361\n",
            "2022-03-31 04:49:29.022638 Epoch 130, Training loss 0.973143782914447\n",
            "2022-03-31 04:50:35.696354 Epoch 140, Training loss 0.9608631995709046\n",
            "2022-03-31 04:51:42.354447 Epoch 150, Training loss 0.9525602748022055\n",
            "2022-03-31 04:52:49.125404 Epoch 160, Training loss 0.9427786179058387\n",
            "2022-03-31 04:53:55.976135 Epoch 170, Training loss 0.9317223448735064\n",
            "2022-03-31 04:55:02.992112 Epoch 180, Training loss 0.9247731465817718\n",
            "2022-03-31 04:56:09.792377 Epoch 190, Training loss 0.9161280933624644\n",
            "2022-03-31 04:57:16.733321 Epoch 200, Training loss 0.911653736210845\n",
            "2022-03-31 04:58:23.635629 Epoch 210, Training loss 0.9066353816815349\n",
            "2022-03-31 04:59:30.509593 Epoch 220, Training loss 0.8995564425235514\n",
            "2022-03-31 05:00:37.230278 Epoch 230, Training loss 0.8945068633160018\n",
            "2022-03-31 05:01:43.647080 Epoch 240, Training loss 0.8879972444775769\n",
            "2022-03-31 05:02:50.265221 Epoch 250, Training loss 0.8861739274943271\n",
            "2022-03-31 05:03:56.737356 Epoch 260, Training loss 0.8845572597382928\n",
            "2022-03-31 05:05:03.356754 Epoch 270, Training loss 0.8795914948748811\n",
            "2022-03-31 05:06:10.188197 Epoch 280, Training loss 0.8767940401268737\n",
            "2022-03-31 05:07:16.739233 Epoch 290, Training loss 0.8723064699517492\n",
            "2022-03-31 05:08:23.398534 Epoch 300, Training loss 0.8708225484089474\n"
          ]
        }
      ],
      "source": [
        "training_loop(\n",
        "    n_epochs = 300,\n",
        "    optimizer = optimizer2,\n",
        "    model = model2,\n",
        "    loss_fn = loss_fn,\n",
        "    train_loader = train_loader\n",
        ")"
      ]
    },
    {
      "cell_type": "code",
      "execution_count": 13,
      "metadata": {
        "id": "dxrBir98VQi8",
        "colab": {
          "base_uri": "https://localhost:8080/"
        },
        "outputId": "8f1876e8-e809-479d-8175-c6070a8f70d2"
      },
      "outputs": [
        {
          "output_type": "stream",
          "name": "stdout",
          "text": [
            "Accuracy: val: 0.57\n"
          ]
        }
      ],
      "source": [
        "validate(model2, train_loader, val_loader)"
      ]
    },
    {
      "cell_type": "code",
      "execution_count": 11,
      "metadata": {
        "id": "WoUu1SXtswXh"
      },
      "outputs": [],
      "source": [
        "class ResBlock(nn.Module):\n",
        "  def __init__(self, n_chans):\n",
        "    super(ResBlock, self).__init__()\n",
        "    self.conv = nn.Conv2d(n_chans, n_chans, kernel_size=3, padding=1, bias=False)\n",
        "    self.batch_norm = nn.BatchNorm2d(num_features=n_chans)\n",
        "    torch.nn.init.kaiming_normal_(self.conv.weight,nonlinearity='relu')\n",
        "    torch.nn.init.constant_(self.batch_norm.weight, 0.5)\n",
        "    torch.nn.init.zeros_(self.batch_norm.bias)\n",
        "\n",
        "  def forward(self, x):\n",
        "    out = self.conv(x)\n",
        "    out = self.batch_norm(out)\n",
        "    out = torch.relu(out)\n",
        "    return out + x"
      ]
    },
    {
      "cell_type": "code",
      "execution_count": 12,
      "metadata": {
        "id": "1w6uBS9Wl8iK"
      },
      "outputs": [],
      "source": [
        "class ResNet10(nn.Module):\n",
        "  def __init__(self, n_chans1 = 32, n_blocks = 10):\n",
        "    super().__init__()\n",
        "    self.n_chans1 = n_chans1\n",
        "    self.conv1 = nn.Conv2d(3, n_chans1, kernel_size=2, padding=1)\n",
        "    self.resblocks = nn.Sequential(\n",
        "        *(n_blocks * [ResBlock(n_chans = n_chans1)]))\n",
        "    self.fc1 = nn.Linear(8 * 8 * n_chans1, 32)\n",
        "    self.fc2 = nn.Linear(32, 10)\n",
        "\n",
        "  def forward(self, x):\n",
        "    out = F.max_pool2d(torch.relu(self.conv1(x)), 2)\n",
        "    out = self.resblocks(out)\n",
        "    out = F.max_pool2d(out, 2)\n",
        "    out = out.view(-1, 8 * 8 * self.n_chans1)\n",
        "    out = torch.relu(self.fc1(out))\n",
        "    out = self.fc2(out)\n",
        "    return out"
      ]
    },
    {
      "cell_type": "code",
      "source": [
        "model3 = ResNet10(n_chans1 = 32, n_blocks = 10).to(device = device)\n",
        "optimizer3 = optim.SGD(model3.parameters(), lr = 1e-2)"
      ],
      "metadata": {
        "id": "OfXFCYn1ZocS"
      },
      "execution_count": 13,
      "outputs": []
    },
    {
      "cell_type": "code",
      "execution_count": 17,
      "metadata": {
        "id": "80c7PvBOouDJ",
        "colab": {
          "base_uri": "https://localhost:8080/"
        },
        "outputId": "741c6b3e-5e06-4309-f6b7-b32630fad2fb"
      },
      "outputs": [
        {
          "output_type": "stream",
          "name": "stdout",
          "text": [
            "2022-03-31 06:47:12.603875 Epoch 1, Training loss 2.303305993604538\n",
            "2022-03-31 06:48:45.533886 Epoch 10, Training loss 1.2049077692848946\n",
            "2022-03-31 06:50:28.817255 Epoch 20, Training loss 0.8708393223145429\n",
            "2022-03-31 06:52:12.010369 Epoch 30, Training loss 0.7135152227204778\n",
            "2022-03-31 06:53:55.236678 Epoch 40, Training loss 0.6158737372559355\n",
            "2022-03-31 06:55:38.660663 Epoch 50, Training loss 0.5422364560234577\n",
            "2022-03-31 06:57:22.085627 Epoch 60, Training loss 0.4836357145586892\n",
            "2022-03-31 06:59:05.805631 Epoch 70, Training loss 0.4381855211847121\n",
            "2022-03-31 07:00:49.260279 Epoch 80, Training loss 0.40597007111134126\n",
            "2022-03-31 07:02:33.944333 Epoch 90, Training loss 0.370671501321256\n",
            "2022-03-31 07:04:17.626909 Epoch 100, Training loss 0.34514773167345836\n",
            "2022-03-31 07:06:01.043898 Epoch 110, Training loss 0.31759900256724616\n",
            "2022-03-31 07:07:44.341636 Epoch 120, Training loss 0.30769834620759007\n",
            "2022-03-31 07:09:27.680422 Epoch 130, Training loss 0.28341449275517555\n",
            "2022-03-31 07:11:10.870347 Epoch 140, Training loss 0.27426179337894063\n",
            "2022-03-31 07:12:53.961959 Epoch 150, Training loss 0.26649320131296395\n",
            "2022-03-31 07:14:36.887662 Epoch 160, Training loss 0.24591345908334644\n",
            "2022-03-31 07:16:19.916398 Epoch 170, Training loss 0.2393130737182963\n",
            "2022-03-31 07:18:02.876060 Epoch 180, Training loss 0.22356515135282598\n",
            "2022-03-31 07:19:46.226755 Epoch 190, Training loss 0.22998335175787854\n",
            "2022-03-31 07:21:29.573322 Epoch 200, Training loss 0.21546402045042085\n"
          ]
        }
      ],
      "source": [
        "training_loop(\n",
        "    n_epochs = 200,\n",
        "    optimizer = optimizer3,\n",
        "    model = model3,\n",
        "    loss_fn = loss_fn,\n",
        "    train_loader = train_loader\n",
        ")"
      ]
    },
    {
      "cell_type": "code",
      "execution_count": 18,
      "metadata": {
        "id": "jslRgJdPtUJH",
        "colab": {
          "base_uri": "https://localhost:8080/"
        },
        "outputId": "7dc8346f-24cd-4daa-ab42-2f50b6cc2789"
      },
      "outputs": [
        {
          "output_type": "stream",
          "name": "stdout",
          "text": [
            "Accuracy: val: 0.64\n"
          ]
        }
      ],
      "source": [
        "validate(model3, train_loader, val_loader)"
      ]
    },
    {
      "cell_type": "code",
      "source": [
        "def training_loop_l2reg(n_epochs, optimizer, model, loss_fn,\n",
        "                        train_loader):\n",
        "    for epoch in range(1, n_epochs + 1):\n",
        "        loss_train = 0.0\n",
        "        for imgs, labels in train_loader:\n",
        "            imgs = imgs.to(device=device)\n",
        "            labels = labels.to(device=device)\n",
        "            outputs = model(imgs)\n",
        "            loss = loss_fn(outputs, labels)\n",
        "\n",
        "            l2_lambda = 0.001\n",
        "            l2_norm = sum(p.pow(2.0).sum()\n",
        "                          for p in model.parameters())  # <1>\n",
        "            loss = loss + l2_lambda * l2_norm\n",
        "\n",
        "            optimizer.zero_grad()\n",
        "            loss.backward()\n",
        "            optimizer.step()\n",
        "            \n",
        "            loss_train += loss.item()\n",
        "        if epoch == 1 or epoch % 10 == 0:\n",
        "            print('{} Epoch {}, Training loss {}'.format(\n",
        "                datetime.datetime.now(), epoch,\n",
        "                loss_train / len(train_loader)))"
      ],
      "metadata": {
        "id": "pfUD83fNdfQv"
      },
      "execution_count": 19,
      "outputs": []
    },
    {
      "cell_type": "code",
      "source": [
        "training_loop_l2reg(\n",
        "    n_epochs = 200,\n",
        "    optimizer = optimizer3,\n",
        "    model = model3,\n",
        "    loss_fn = loss_fn,\n",
        "    train_loader = train_loader\n",
        ")"
      ],
      "metadata": {
        "id": "Mw-qCdqab8lD",
        "colab": {
          "base_uri": "https://localhost:8080/"
        },
        "outputId": "b01ff819-8313-4306-f07e-cae890f32737"
      },
      "execution_count": 20,
      "outputs": [
        {
          "output_type": "stream",
          "name": "stdout",
          "text": [
            "2022-03-31 07:21:48.877424 Epoch 1, Training loss 1.0049705963457942\n",
            "2022-03-31 07:23:27.447765 Epoch 10, Training loss 0.8480407270933966\n",
            "2022-03-31 07:25:17.220620 Epoch 20, Training loss 0.7629982006671788\n",
            "2022-03-31 07:27:07.184156 Epoch 30, Training loss 0.6913026767923399\n",
            "2022-03-31 07:28:56.955728 Epoch 40, Training loss 0.6568689047146941\n",
            "2022-03-31 07:30:46.536811 Epoch 50, Training loss 0.6442430227842477\n",
            "2022-03-31 07:32:36.416738 Epoch 60, Training loss 0.6303892508339699\n",
            "2022-03-31 07:34:26.273324 Epoch 70, Training loss 0.6245178457568673\n",
            "2022-03-31 07:36:15.932038 Epoch 80, Training loss 0.6115621050910267\n",
            "2022-03-31 07:38:05.570570 Epoch 90, Training loss 0.6092279070935895\n",
            "2022-03-31 07:39:55.375205 Epoch 100, Training loss 0.6067226152971882\n",
            "2022-03-31 07:41:45.036945 Epoch 110, Training loss 0.5972748949094806\n",
            "2022-03-31 07:43:34.707090 Epoch 120, Training loss 0.5980867899744712\n",
            "2022-03-31 07:45:24.190253 Epoch 130, Training loss 0.5988763271237884\n",
            "2022-03-31 07:47:13.665074 Epoch 140, Training loss 0.5932472881377505\n",
            "2022-03-31 07:49:03.218054 Epoch 150, Training loss 0.577561403326976\n",
            "2022-03-31 07:50:52.550493 Epoch 160, Training loss 0.5761745732534876\n",
            "2022-03-31 07:52:41.635965 Epoch 170, Training loss 0.576780896548115\n",
            "2022-03-31 07:54:31.524253 Epoch 180, Training loss 0.5619603552857934\n",
            "2022-03-31 07:56:20.865522 Epoch 190, Training loss 0.5685471096993102\n",
            "2022-03-31 07:58:09.983655 Epoch 200, Training loss 0.5643743825766742\n"
          ]
        }
      ]
    },
    {
      "cell_type": "code",
      "source": [
        "validate(model3, train_loader, val_loader)"
      ],
      "metadata": {
        "colab": {
          "base_uri": "https://localhost:8080/"
        },
        "id": "fF-P3kYLeel4",
        "outputId": "f3316abe-ad6b-4af8-839a-565d2651351f"
      },
      "execution_count": 21,
      "outputs": [
        {
          "output_type": "stream",
          "name": "stdout",
          "text": [
            "Accuracy: val: 0.62\n"
          ]
        }
      ]
    },
    {
      "cell_type": "code",
      "source": [
        "class NetDropout(nn.Module):\n",
        "    def __init__(self, n_chans1=32):\n",
        "        super().__init__()\n",
        "        self.n_chans1 = n_chans1\n",
        "        self.conv1 = nn.Conv2d(3, n_chans1, kernel_size=3, padding=1)\n",
        "        self.conv1_dropout = nn.Dropout2d(p=0.3)\n",
        "        self.conv2 = nn.Conv2d(n_chans1, n_chans1 // 2, kernel_size=3,\n",
        "                               padding=1)\n",
        "        self.conv2_dropout = nn.Dropout2d(p=0.3)\n",
        "        self.fc1 = nn.Linear(8 * 8 * n_chans1 // 2, 32)\n",
        "        self.fc2 = nn.Linear(32, 10)\n",
        "        \n",
        "    def forward(self, x):\n",
        "        out = F.max_pool2d(torch.tanh(self.conv1(x)), 2)\n",
        "        out = self.conv1_dropout(out)\n",
        "        out = F.max_pool2d(torch.tanh(self.conv2(out)), 2)\n",
        "        out = self.conv2_dropout(out)\n",
        "        out = out.view(-1, 8 * 8 * self.n_chans1 // 2)\n",
        "        out = torch.tanh(self.fc1(out))\n",
        "        out = self.fc2(out)\n",
        "        return out"
      ],
      "metadata": {
        "id": "XUyGiOeed8tI"
      },
      "execution_count": 15,
      "outputs": []
    },
    {
      "cell_type": "code",
      "source": [
        "model4 = NetDropout(n_chans1 = 32).to(device = device)\n",
        "optimizer4 = optim.SGD(model4.parameters(), lr = 1e-2)"
      ],
      "metadata": {
        "id": "kK9mAzRKeM-Z"
      },
      "execution_count": 16,
      "outputs": []
    },
    {
      "cell_type": "code",
      "source": [
        "training_loop(\n",
        "    n_epochs = 200,\n",
        "    optimizer = optimizer4,\n",
        "    model = model4,\n",
        "    loss_fn = loss_fn,\n",
        "    train_loader = train_loader\n",
        ")"
      ],
      "metadata": {
        "colab": {
          "base_uri": "https://localhost:8080/"
        },
        "id": "xoE5m-JveY6F",
        "outputId": "bf990848-625a-49d6-92fe-4717a4eb6e1d"
      },
      "execution_count": 17,
      "outputs": [
        {
          "output_type": "stream",
          "name": "stdout",
          "text": [
            "2022-03-31 15:44:09.160170 Epoch 1, Training loss 2.1980395323175297\n",
            "2022-03-31 15:45:06.244259 Epoch 10, Training loss 1.494749722121012\n",
            "2022-03-31 15:46:09.789932 Epoch 20, Training loss 1.3196218495478715\n",
            "2022-03-31 15:47:13.489134 Epoch 30, Training loss 1.2320125763830931\n",
            "2022-03-31 15:48:17.012613 Epoch 40, Training loss 1.170518615209233\n",
            "2022-03-31 15:49:20.885848 Epoch 50, Training loss 1.122844330413872\n",
            "2022-03-31 15:50:26.215798 Epoch 60, Training loss 1.0925521270545853\n",
            "2022-03-31 15:51:30.430899 Epoch 70, Training loss 1.0583589296511677\n",
            "2022-03-31 15:52:34.028897 Epoch 80, Training loss 1.0419079329046752\n",
            "2022-03-31 15:53:37.547485 Epoch 90, Training loss 1.0209649172432893\n",
            "2022-03-31 15:54:41.063210 Epoch 100, Training loss 1.0068524559135632\n",
            "2022-03-31 15:55:44.357262 Epoch 110, Training loss 0.9994589087298459\n",
            "2022-03-31 15:56:47.773032 Epoch 120, Training loss 0.9808656894185049\n",
            "2022-03-31 15:57:51.179362 Epoch 130, Training loss 0.9716645501306295\n",
            "2022-03-31 15:58:54.586126 Epoch 140, Training loss 0.9675744561588063\n",
            "2022-03-31 15:59:57.877818 Epoch 150, Training loss 0.9605066857069654\n",
            "2022-03-31 16:01:01.229915 Epoch 160, Training loss 0.9497633012359404\n",
            "2022-03-31 16:02:04.689083 Epoch 170, Training loss 0.9410074310534445\n",
            "2022-03-31 16:03:08.047365 Epoch 180, Training loss 0.9412702220632597\n",
            "2022-03-31 16:04:11.351590 Epoch 190, Training loss 0.933208909981391\n",
            "2022-03-31 16:05:14.541080 Epoch 200, Training loss 0.9278141051302176\n"
          ]
        }
      ]
    },
    {
      "cell_type": "code",
      "source": [
        "validate(model4, train_loader, val_loader)"
      ],
      "metadata": {
        "colab": {
          "base_uri": "https://localhost:8080/"
        },
        "id": "U-BwLbChekxf",
        "outputId": "2e124847-288b-45aa-da9b-65f0578cb723"
      },
      "execution_count": 18,
      "outputs": [
        {
          "output_type": "stream",
          "name": "stdout",
          "text": [
            "Accuracy: val: 0.61\n"
          ]
        }
      ]
    },
    {
      "cell_type": "code",
      "source": [
        "class NetBatchNorm(nn.Module):\n",
        "    def __init__(self, n_chans1=32):\n",
        "        super().__init__()\n",
        "        self.n_chans1 = n_chans1\n",
        "        self.conv1 = nn.Conv2d(3, n_chans1, kernel_size=3, padding=1)\n",
        "        self.conv1_batchnorm = nn.BatchNorm2d(num_features=n_chans1)\n",
        "        self.conv2 = nn.Conv2d(n_chans1, n_chans1 // 2, kernel_size=3, \n",
        "                               padding=1)\n",
        "        self.conv2_batchnorm = nn.BatchNorm2d(num_features=n_chans1 // 2)\n",
        "        self.fc1 = nn.Linear(8 * 8 * n_chans1 // 2, 32)\n",
        "        self.fc2 = nn.Linear(32, 10)\n",
        "        \n",
        "    def forward(self, x):\n",
        "        out = self.conv1_batchnorm(self.conv1(x))\n",
        "        out = F.max_pool2d(torch.tanh(out), 2)\n",
        "        out = self.conv2_batchnorm(self.conv2(out))\n",
        "        out = F.max_pool2d(torch.tanh(out), 2)\n",
        "        out = out.view(-1, 8 * 8 * self.n_chans1 // 2)\n",
        "        out = torch.tanh(self.fc1(out))\n",
        "        out = self.fc2(out)\n",
        "        return out"
      ],
      "metadata": {
        "id": "1fGcRRsnepiw"
      },
      "execution_count": 19,
      "outputs": []
    },
    {
      "cell_type": "code",
      "source": [
        "model5 = NetBatchNorm(n_chans1 = 32).to(device = device)\n",
        "optimizer5 = optim.SGD(model5.parameters(), lr = 1e-2)"
      ],
      "metadata": {
        "id": "BM4-8yG7euvH"
      },
      "execution_count": 20,
      "outputs": []
    },
    {
      "cell_type": "code",
      "source": [
        "training_loop(\n",
        "    n_epochs = 200,\n",
        "    optimizer = optimizer5,\n",
        "    model = model5,\n",
        "    loss_fn = loss_fn,\n",
        "    train_loader = train_loader\n",
        ")"
      ],
      "metadata": {
        "colab": {
          "base_uri": "https://localhost:8080/"
        },
        "id": "00pF1016e2iQ",
        "outputId": "070a03eb-8c26-4350-ab69-b2070ced9a3c"
      },
      "execution_count": 21,
      "outputs": [
        {
          "output_type": "stream",
          "name": "stdout",
          "text": [
            "2022-03-31 16:09:47.967963 Epoch 1, Training loss 1.7838067279752259\n",
            "2022-03-31 16:10:47.051337 Epoch 10, Training loss 0.9624199323032213\n",
            "2022-03-31 16:11:52.464671 Epoch 20, Training loss 0.7969129428534252\n",
            "2022-03-31 16:12:58.147590 Epoch 30, Training loss 0.7031840597424666\n",
            "2022-03-31 16:14:03.656624 Epoch 40, Training loss 0.6305995185661804\n",
            "2022-03-31 16:15:09.035426 Epoch 50, Training loss 0.5766544294403032\n",
            "2022-03-31 16:16:14.364434 Epoch 60, Training loss 0.5282236191317858\n",
            "2022-03-31 16:17:19.712261 Epoch 70, Training loss 0.48431261693653854\n",
            "2022-03-31 16:18:25.360500 Epoch 80, Training loss 0.4477320643680175\n",
            "2022-03-31 16:19:30.573760 Epoch 90, Training loss 0.414651697954101\n",
            "2022-03-31 16:20:35.889676 Epoch 100, Training loss 0.3829454679013518\n",
            "2022-03-31 16:21:41.206677 Epoch 110, Training loss 0.3521959857010018\n",
            "2022-03-31 16:22:46.786569 Epoch 120, Training loss 0.3273326074490157\n",
            "2022-03-31 16:23:52.110456 Epoch 130, Training loss 0.3046942265213603\n",
            "2022-03-31 16:24:57.373604 Epoch 140, Training loss 0.2844478160790775\n",
            "2022-03-31 16:26:02.606090 Epoch 150, Training loss 0.26248701015854126\n",
            "2022-03-31 16:27:07.886430 Epoch 160, Training loss 0.24485927320006864\n",
            "2022-03-31 16:28:13.257102 Epoch 170, Training loss 0.22899872874436172\n",
            "2022-03-31 16:29:18.518586 Epoch 180, Training loss 0.21485560214923471\n",
            "2022-03-31 16:30:23.837559 Epoch 190, Training loss 0.20247267834518268\n",
            "2022-03-31 16:31:29.071740 Epoch 200, Training loss 0.18642431348943345\n"
          ]
        }
      ]
    },
    {
      "cell_type": "code",
      "source": [
        "validate(model5, train_loader, val_loader)"
      ],
      "metadata": {
        "colab": {
          "base_uri": "https://localhost:8080/"
        },
        "id": "-PgTXZ6Te5fw",
        "outputId": "b3ed97be-76d2-40cc-fbae-1c63c38d7c54"
      },
      "execution_count": 22,
      "outputs": [
        {
          "output_type": "stream",
          "name": "stdout",
          "text": [
            "Accuracy: val: 0.63\n"
          ]
        }
      ]
    },
    {
      "cell_type": "code",
      "source": [
        ""
      ],
      "metadata": {
        "id": "064gp5WsAu-B"
      },
      "execution_count": 22,
      "outputs": []
    }
  ],
  "metadata": {
    "accelerator": "GPU",
    "colab": {
      "collapsed_sections": [],
      "name": "HW3_801053745_Hausler_J.ipynb",
      "provenance": []
    },
    "kernelspec": {
      "display_name": "Python 3",
      "name": "python3"
    },
    "language_info": {
      "name": "python"
    },
    "widgets": {
      "application/vnd.jupyter.widget-state+json": {
        "1660723dd1d1410ca478ae499bb01130": {
          "model_module": "@jupyter-widgets/controls",
          "model_name": "HBoxModel",
          "model_module_version": "1.5.0",
          "state": {
            "_dom_classes": [],
            "_model_module": "@jupyter-widgets/controls",
            "_model_module_version": "1.5.0",
            "_model_name": "HBoxModel",
            "_view_count": null,
            "_view_module": "@jupyter-widgets/controls",
            "_view_module_version": "1.5.0",
            "_view_name": "HBoxView",
            "box_style": "",
            "children": [
              "IPY_MODEL_588c5049f808482588a8292c8a937607",
              "IPY_MODEL_15b97b8be0da4057be8e4cbf4fabc5f3",
              "IPY_MODEL_a44b1f501236432085c03b7e72c6b385"
            ],
            "layout": "IPY_MODEL_6a66634a00c743d0908df5f94920621a"
          }
        },
        "588c5049f808482588a8292c8a937607": {
          "model_module": "@jupyter-widgets/controls",
          "model_name": "HTMLModel",
          "model_module_version": "1.5.0",
          "state": {
            "_dom_classes": [],
            "_model_module": "@jupyter-widgets/controls",
            "_model_module_version": "1.5.0",
            "_model_name": "HTMLModel",
            "_view_count": null,
            "_view_module": "@jupyter-widgets/controls",
            "_view_module_version": "1.5.0",
            "_view_name": "HTMLView",
            "description": "",
            "description_tooltip": null,
            "layout": "IPY_MODEL_5c30169aef1544c993f41a9f855acaf1",
            "placeholder": "​",
            "style": "IPY_MODEL_a68f21cc285c4fd78e89d40956d06b62",
            "value": ""
          }
        },
        "15b97b8be0da4057be8e4cbf4fabc5f3": {
          "model_module": "@jupyter-widgets/controls",
          "model_name": "FloatProgressModel",
          "model_module_version": "1.5.0",
          "state": {
            "_dom_classes": [],
            "_model_module": "@jupyter-widgets/controls",
            "_model_module_version": "1.5.0",
            "_model_name": "FloatProgressModel",
            "_view_count": null,
            "_view_module": "@jupyter-widgets/controls",
            "_view_module_version": "1.5.0",
            "_view_name": "ProgressView",
            "bar_style": "success",
            "description": "",
            "description_tooltip": null,
            "layout": "IPY_MODEL_c622eb3fb7dd4aabbe5df1226b2cce5d",
            "max": 170498071,
            "min": 0,
            "orientation": "horizontal",
            "style": "IPY_MODEL_f81624b11d3b4ee39ed1da6d328a609a",
            "value": 170498071
          }
        },
        "a44b1f501236432085c03b7e72c6b385": {
          "model_module": "@jupyter-widgets/controls",
          "model_name": "HTMLModel",
          "model_module_version": "1.5.0",
          "state": {
            "_dom_classes": [],
            "_model_module": "@jupyter-widgets/controls",
            "_model_module_version": "1.5.0",
            "_model_name": "HTMLModel",
            "_view_count": null,
            "_view_module": "@jupyter-widgets/controls",
            "_view_module_version": "1.5.0",
            "_view_name": "HTMLView",
            "description": "",
            "description_tooltip": null,
            "layout": "IPY_MODEL_85f384d1173e4fa4a74742e4dd069eaf",
            "placeholder": "​",
            "style": "IPY_MODEL_85dcc4f273ff4fe2996bfb4a410220ec",
            "value": " 170499072/? [00:03&lt;00:00, 53144570.98it/s]"
          }
        },
        "6a66634a00c743d0908df5f94920621a": {
          "model_module": "@jupyter-widgets/base",
          "model_name": "LayoutModel",
          "model_module_version": "1.2.0",
          "state": {
            "_model_module": "@jupyter-widgets/base",
            "_model_module_version": "1.2.0",
            "_model_name": "LayoutModel",
            "_view_count": null,
            "_view_module": "@jupyter-widgets/base",
            "_view_module_version": "1.2.0",
            "_view_name": "LayoutView",
            "align_content": null,
            "align_items": null,
            "align_self": null,
            "border": null,
            "bottom": null,
            "display": null,
            "flex": null,
            "flex_flow": null,
            "grid_area": null,
            "grid_auto_columns": null,
            "grid_auto_flow": null,
            "grid_auto_rows": null,
            "grid_column": null,
            "grid_gap": null,
            "grid_row": null,
            "grid_template_areas": null,
            "grid_template_columns": null,
            "grid_template_rows": null,
            "height": null,
            "justify_content": null,
            "justify_items": null,
            "left": null,
            "margin": null,
            "max_height": null,
            "max_width": null,
            "min_height": null,
            "min_width": null,
            "object_fit": null,
            "object_position": null,
            "order": null,
            "overflow": null,
            "overflow_x": null,
            "overflow_y": null,
            "padding": null,
            "right": null,
            "top": null,
            "visibility": null,
            "width": null
          }
        },
        "5c30169aef1544c993f41a9f855acaf1": {
          "model_module": "@jupyter-widgets/base",
          "model_name": "LayoutModel",
          "model_module_version": "1.2.0",
          "state": {
            "_model_module": "@jupyter-widgets/base",
            "_model_module_version": "1.2.0",
            "_model_name": "LayoutModel",
            "_view_count": null,
            "_view_module": "@jupyter-widgets/base",
            "_view_module_version": "1.2.0",
            "_view_name": "LayoutView",
            "align_content": null,
            "align_items": null,
            "align_self": null,
            "border": null,
            "bottom": null,
            "display": null,
            "flex": null,
            "flex_flow": null,
            "grid_area": null,
            "grid_auto_columns": null,
            "grid_auto_flow": null,
            "grid_auto_rows": null,
            "grid_column": null,
            "grid_gap": null,
            "grid_row": null,
            "grid_template_areas": null,
            "grid_template_columns": null,
            "grid_template_rows": null,
            "height": null,
            "justify_content": null,
            "justify_items": null,
            "left": null,
            "margin": null,
            "max_height": null,
            "max_width": null,
            "min_height": null,
            "min_width": null,
            "object_fit": null,
            "object_position": null,
            "order": null,
            "overflow": null,
            "overflow_x": null,
            "overflow_y": null,
            "padding": null,
            "right": null,
            "top": null,
            "visibility": null,
            "width": null
          }
        },
        "a68f21cc285c4fd78e89d40956d06b62": {
          "model_module": "@jupyter-widgets/controls",
          "model_name": "DescriptionStyleModel",
          "model_module_version": "1.5.0",
          "state": {
            "_model_module": "@jupyter-widgets/controls",
            "_model_module_version": "1.5.0",
            "_model_name": "DescriptionStyleModel",
            "_view_count": null,
            "_view_module": "@jupyter-widgets/base",
            "_view_module_version": "1.2.0",
            "_view_name": "StyleView",
            "description_width": ""
          }
        },
        "c622eb3fb7dd4aabbe5df1226b2cce5d": {
          "model_module": "@jupyter-widgets/base",
          "model_name": "LayoutModel",
          "model_module_version": "1.2.0",
          "state": {
            "_model_module": "@jupyter-widgets/base",
            "_model_module_version": "1.2.0",
            "_model_name": "LayoutModel",
            "_view_count": null,
            "_view_module": "@jupyter-widgets/base",
            "_view_module_version": "1.2.0",
            "_view_name": "LayoutView",
            "align_content": null,
            "align_items": null,
            "align_self": null,
            "border": null,
            "bottom": null,
            "display": null,
            "flex": null,
            "flex_flow": null,
            "grid_area": null,
            "grid_auto_columns": null,
            "grid_auto_flow": null,
            "grid_auto_rows": null,
            "grid_column": null,
            "grid_gap": null,
            "grid_row": null,
            "grid_template_areas": null,
            "grid_template_columns": null,
            "grid_template_rows": null,
            "height": null,
            "justify_content": null,
            "justify_items": null,
            "left": null,
            "margin": null,
            "max_height": null,
            "max_width": null,
            "min_height": null,
            "min_width": null,
            "object_fit": null,
            "object_position": null,
            "order": null,
            "overflow": null,
            "overflow_x": null,
            "overflow_y": null,
            "padding": null,
            "right": null,
            "top": null,
            "visibility": null,
            "width": null
          }
        },
        "f81624b11d3b4ee39ed1da6d328a609a": {
          "model_module": "@jupyter-widgets/controls",
          "model_name": "ProgressStyleModel",
          "model_module_version": "1.5.0",
          "state": {
            "_model_module": "@jupyter-widgets/controls",
            "_model_module_version": "1.5.0",
            "_model_name": "ProgressStyleModel",
            "_view_count": null,
            "_view_module": "@jupyter-widgets/base",
            "_view_module_version": "1.2.0",
            "_view_name": "StyleView",
            "bar_color": null,
            "description_width": ""
          }
        },
        "85f384d1173e4fa4a74742e4dd069eaf": {
          "model_module": "@jupyter-widgets/base",
          "model_name": "LayoutModel",
          "model_module_version": "1.2.0",
          "state": {
            "_model_module": "@jupyter-widgets/base",
            "_model_module_version": "1.2.0",
            "_model_name": "LayoutModel",
            "_view_count": null,
            "_view_module": "@jupyter-widgets/base",
            "_view_module_version": "1.2.0",
            "_view_name": "LayoutView",
            "align_content": null,
            "align_items": null,
            "align_self": null,
            "border": null,
            "bottom": null,
            "display": null,
            "flex": null,
            "flex_flow": null,
            "grid_area": null,
            "grid_auto_columns": null,
            "grid_auto_flow": null,
            "grid_auto_rows": null,
            "grid_column": null,
            "grid_gap": null,
            "grid_row": null,
            "grid_template_areas": null,
            "grid_template_columns": null,
            "grid_template_rows": null,
            "height": null,
            "justify_content": null,
            "justify_items": null,
            "left": null,
            "margin": null,
            "max_height": null,
            "max_width": null,
            "min_height": null,
            "min_width": null,
            "object_fit": null,
            "object_position": null,
            "order": null,
            "overflow": null,
            "overflow_x": null,
            "overflow_y": null,
            "padding": null,
            "right": null,
            "top": null,
            "visibility": null,
            "width": null
          }
        },
        "85dcc4f273ff4fe2996bfb4a410220ec": {
          "model_module": "@jupyter-widgets/controls",
          "model_name": "DescriptionStyleModel",
          "model_module_version": "1.5.0",
          "state": {
            "_model_module": "@jupyter-widgets/controls",
            "_model_module_version": "1.5.0",
            "_model_name": "DescriptionStyleModel",
            "_view_count": null,
            "_view_module": "@jupyter-widgets/base",
            "_view_module_version": "1.2.0",
            "_view_name": "StyleView",
            "description_width": ""
          }
        }
      }
    }
  },
  "nbformat": 4,
  "nbformat_minor": 0
}